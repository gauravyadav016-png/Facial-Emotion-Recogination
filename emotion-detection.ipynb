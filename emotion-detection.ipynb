{
 "cells": [
  {
   "cell_type": "code",
   "execution_count": 1,
   "metadata": {
    "execution": {
     "iopub.execute_input": "2022-02-25T16:31:12.278746Z",
     "iopub.status.busy": "2022-02-25T16:31:12.278439Z",
     "iopub.status.idle": "2022-02-25T16:31:15.228820Z",
     "shell.execute_reply": "2022-02-25T16:31:15.228155Z",
     "shell.execute_reply.started": "2022-02-25T16:31:12.278694Z"
    }
   },
   "outputs": [
    {
     "data": {
      "text/html": [
       "<div>\n",
       "<style scoped>\n",
       "    .dataframe tbody tr th:only-of-type {\n",
       "        vertical-align: middle;\n",
       "    }\n",
       "\n",
       "    .dataframe tbody tr th {\n",
       "        vertical-align: top;\n",
       "    }\n",
       "\n",
       "    .dataframe thead th {\n",
       "        text-align: right;\n",
       "    }\n",
       "</style>\n",
       "<table border=\"1\" class=\"dataframe\">\n",
       "  <thead>\n",
       "    <tr style=\"text-align: right;\">\n",
       "      <th></th>\n",
       "      <th>emotion</th>\n",
       "      <th>pixels</th>\n",
       "      <th>Usage</th>\n",
       "    </tr>\n",
       "  </thead>\n",
       "  <tbody>\n",
       "    <tr>\n",
       "      <th>0</th>\n",
       "      <td>0</td>\n",
       "      <td>70 80 82 72 58 58 60 63 54 58 60 48 89 115 121...</td>\n",
       "      <td>Training</td>\n",
       "    </tr>\n",
       "    <tr>\n",
       "      <th>1</th>\n",
       "      <td>0</td>\n",
       "      <td>151 150 147 155 148 133 111 140 170 174 182 15...</td>\n",
       "      <td>Training</td>\n",
       "    </tr>\n",
       "    <tr>\n",
       "      <th>2</th>\n",
       "      <td>2</td>\n",
       "      <td>231 212 156 164 174 138 161 173 182 200 106 38...</td>\n",
       "      <td>Training</td>\n",
       "    </tr>\n",
       "    <tr>\n",
       "      <th>3</th>\n",
       "      <td>4</td>\n",
       "      <td>24 32 36 30 32 23 19 20 30 41 21 22 32 34 21 1...</td>\n",
       "      <td>Training</td>\n",
       "    </tr>\n",
       "    <tr>\n",
       "      <th>4</th>\n",
       "      <td>6</td>\n",
       "      <td>4 0 0 0 0 0 0 0 0 0 0 0 3 15 23 28 48 50 58 84...</td>\n",
       "      <td>Training</td>\n",
       "    </tr>\n",
       "  </tbody>\n",
       "</table>\n",
       "</div>"
      ],
      "text/plain": [
       "   emotion                                             pixels     Usage\n",
       "0        0  70 80 82 72 58 58 60 63 54 58 60 48 89 115 121...  Training\n",
       "1        0  151 150 147 155 148 133 111 140 170 174 182 15...  Training\n",
       "2        2  231 212 156 164 174 138 161 173 182 200 106 38...  Training\n",
       "3        4  24 32 36 30 32 23 19 20 30 41 21 22 32 34 21 1...  Training\n",
       "4        6  4 0 0 0 0 0 0 0 0 0 0 0 3 15 23 28 48 50 58 84...  Training"
      ]
     },
     "execution_count": 1,
     "metadata": {},
     "output_type": "execute_result"
    }
   ],
   "source": [
    "%matplotlib inline\n",
    "import matplotlib.pyplot as plt\n",
    "import numpy as np\n",
    "import scipy\n",
    "import pandas as pd\n",
    "import seaborn as sns\n",
    "df = pd.read_csv('../input/fer13facial/fer2013.csv')\n",
    "df.head()"
   ]
  },
  {
   "cell_type": "code",
   "execution_count": 2,
   "metadata": {
    "execution": {
     "iopub.execute_input": "2022-02-25T16:31:16.556153Z",
     "iopub.status.busy": "2022-02-25T16:31:16.555872Z",
     "iopub.status.idle": "2022-02-25T16:31:16.757859Z",
     "shell.execute_reply": "2022-02-25T16:31:16.757153Z",
     "shell.execute_reply.started": "2022-02-25T16:31:16.556124Z"
    }
   },
   "outputs": [
    {
     "data": {
      "text/plain": [
       "<AxesSubplot:xlabel='emotion', ylabel='count'>"
      ]
     },
     "execution_count": 2,
     "metadata": {},
     "output_type": "execute_result"
    },
    {
     "data": {
      "image/png": "[encoded data removed]",
      "text/plain": [
       "<Figure size 648x288 with 1 Axes>"
      ]
     },
     "metadata": {
      "needs_background": "light"
     },
     "output_type": "display_data"
    }
   ],
   "source": [
    "plt.figure(figsize=(9,4))\n",
    "sns.countplot(x='emotion', data=df)"
   ]
  },
  {
   "cell_type": "code",
   "execution_count": 3,
   "metadata": {
    "execution": {
     "iopub.execute_input": "2022-02-25T16:31:17.503556Z",
     "iopub.status.busy": "2022-02-25T16:31:17.502827Z",
     "iopub.status.idle": "2022-02-25T16:31:17.725331Z",
     "shell.execute_reply": "2022-02-25T16:31:17.724673Z",
     "shell.execute_reply.started": "2022-02-25T16:31:17.503518Z"
    }
   },
   "outputs": [
    {
     "data": {
      "text/plain": [
       "<AxesSubplot:xlabel='Usage', ylabel='count'>"
      ]
     },
     "execution_count": 3,
     "metadata": {},
     "output_type": "execute_result"
    },
    {
     "data": {
      "image/png": "[encoded data removed]",
      "text/plain": [
       "<Figure size 648x288 with 1 Axes>"
      ]
     },
     "metadata": {
      "needs_background": "light"
     },
     "output_type": "display_data"
    }
   ],
   "source": [
    "plt.figure(figsize=(9,4))\n",
    "sns.countplot(x='Usage', data=df)"
   ]
  },
  {
   "cell_type": "code",
   "execution_count": 4,
   "metadata": {
    "execution": {
     "iopub.execute_input": "2022-02-25T16:31:18.652309Z",
     "iopub.status.busy": "2022-02-25T16:31:18.652023Z",
     "iopub.status.idle": "2022-02-25T16:31:18.672972Z",
     "shell.execute_reply": "2022-02-25T16:31:18.672254Z",
     "shell.execute_reply.started": "2022-02-25T16:31:18.652260Z"
    }
   },
   "outputs": [
    {
     "data": {
      "text/html": [
       "<div>\n",
       "<style scoped>\n",
       "    .dataframe tbody tr th:only-of-type {\n",
       "        vertical-align: middle;\n",
       "    }\n",
       "\n",
       "    .dataframe tbody tr th {\n",
       "        vertical-align: top;\n",
       "    }\n",
       "\n",
       "    .dataframe thead th {\n",
       "        text-align: right;\n",
       "    }\n",
       "</style>\n",
       "<table border=\"1\" class=\"dataframe\">\n",
       "  <thead>\n",
       "    <tr style=\"text-align: right;\">\n",
       "      <th></th>\n",
       "      <th>emotion</th>\n",
       "    </tr>\n",
       "  </thead>\n",
       "  <tbody>\n",
       "    <tr>\n",
       "      <th>count</th>\n",
       "      <td>35887.000000</td>\n",
       "    </tr>\n",
       "    <tr>\n",
       "      <th>mean</th>\n",
       "      <td>3.323265</td>\n",
       "    </tr>\n",
       "    <tr>\n",
       "      <th>std</th>\n",
       "      <td>1.873819</td>\n",
       "    </tr>\n",
       "    <tr>\n",
       "      <th>min</th>\n",
       "      <td>0.000000</td>\n",
       "    </tr>\n",
       "    <tr>\n",
       "      <th>25%</th>\n",
       "      <td>2.000000</td>\n",
       "    </tr>\n",
       "    <tr>\n",
       "      <th>50%</th>\n",
       "      <td>3.000000</td>\n",
       "    </tr>\n",
       "    <tr>\n",
       "      <th>75%</th>\n",
       "      <td>5.000000</td>\n",
       "    </tr>\n",
       "    <tr>\n",
       "      <th>max</th>\n",
       "      <td>6.000000</td>\n",
       "    </tr>\n",
       "  </tbody>\n",
       "</table>\n",
       "</div>"
      ],
      "text/plain": [
       "            emotion\n",
       "count  35887.000000\n",
       "mean       3.323265\n",
       "std        1.873819\n",
       "min        0.000000\n",
       "25%        2.000000\n",
       "50%        3.000000\n",
       "75%        5.000000\n",
       "max        6.000000"
      ]
     },
     "execution_count": 4,
     "metadata": {},
     "output_type": "execute_result"
    }
   ],
   "source": [
    "df.describe()"
   ]
  },
  {
   "cell_type": "code",
   "execution_count": 5,
   "metadata": {
    "execution": {
     "iopub.execute_input": "2022-02-25T16:31:19.532126Z",
     "iopub.status.busy": "2022-02-25T16:31:19.531392Z",
     "iopub.status.idle": "2022-02-25T16:31:20.140515Z",
     "shell.execute_reply": "2022-02-25T16:31:20.139801Z",
     "shell.execute_reply.started": "2022-02-25T16:31:19.532087Z"
    }
   },
   "outputs": [
    {
     "data": {
      "text/plain": [
       "<AxesSubplot:ylabel='Count'>"
      ]
     },
     "execution_count": 5,
     "metadata": {},
     "output_type": "execute_result"
    },
    {
     "data": {
      "image/png": "[encoded data removed]",
      "text/plain": [
       "<Figure size 432x288 with 1 Axes>"
      ]
     },
     "metadata": {},
     "output_type": "display_data"
    }
   ],
   "source": [
    "sns.set_theme(style='darkgrid', palette='deep', font='sans-serif', font_scale=1)\n",
    "sns.histplot(data= df,kde = True)"
   ]
  },
  {
   "cell_type": "code",
   "execution_count": 6,
   "metadata": {
    "execution": {
     "iopub.execute_input": "2022-02-25T16:31:21.476410Z",
     "iopub.status.busy": "2022-02-25T16:31:21.475789Z",
     "iopub.status.idle": "2022-02-25T16:31:21.491118Z",
     "shell.execute_reply": "2022-02-25T16:31:21.490321Z",
     "shell.execute_reply.started": "2022-02-25T16:31:21.476369Z"
    }
   },
   "outputs": [
    {
     "data": {
      "text/plain": [
       "Training       28709\n",
       "PublicTest      3589\n",
       "PrivateTest     3589\n",
       "Name: Usage, dtype: int64"
      ]
     },
     "execution_count": 6,
     "metadata": {},
     "output_type": "execute_result"
    }
   ],
   "source": [
    "num_classes = 7\n",
    "width = 48\n",
    "height = 48\n",
    "emotion_labels = [\"Angry\", \"Disgust\", \"Fear\", \"Happy\", \"Sad\", \"Surprise\", \"Neutral\"]\n",
    "classes=np.array((\"Angry\", \"Disgust\", \"Fear\", \"Happy\", \"Sad\", \"Surprise\", \"Neutral\"))\n",
    "df.Usage.value_counts() "
   ]
  },
  {
   "cell_type": "code",
   "execution_count": 7,
   "metadata": {
    "execution": {
     "iopub.execute_input": "2022-02-25T16:31:22.509924Z",
     "iopub.status.busy": "2022-02-25T16:31:22.509459Z",
     "iopub.status.idle": "2022-02-25T16:31:22.515403Z",
     "shell.execute_reply": "2022-02-25T16:31:22.514294Z",
     "shell.execute_reply.started": "2022-02-25T16:31:22.509886Z"
    }
   },
   "outputs": [],
   "source": [
    "k = np.array(list(map(int,df.iloc[0,1].split(\" \"))),dtype='uint8').reshape((48,48))\n"
   ]
  },
  {
   "cell_type": "code",
   "execution_count": 8,
   "metadata": {
    "execution": {
     "iopub.execute_input": "2022-02-25T16:31:30.909708Z",
     "iopub.status.busy": "2022-02-25T16:31:30.909433Z",
     "iopub.status.idle": "2022-02-25T16:31:30.915201Z",
     "shell.execute_reply": "2022-02-25T16:31:30.914118Z",
     "shell.execute_reply.started": "2022-02-25T16:31:30.909675Z"
    }
   },
   "outputs": [
    {
     "data": {
      "text/plain": [
       "(48, 48)"
      ]
     },
     "execution_count": 8,
     "metadata": {},
     "output_type": "execute_result"
    }
   ],
   "source": [
    "k.shape"
   ]
  },
  {
   "cell_type": "markdown",
   "metadata": {},
   "source": [
    "# Preparing Data\n",
    "\n",
    "You see data is not in the right format. we need to pre-process the data. Here X_train, X_test contains pixels, and y_test, y_train contains emotions."
   ]
  },
  {
   "cell_type": "code",
   "execution_count": 9,
   "metadata": {
    "execution": {
     "iopub.execute_input": "2022-02-25T16:31:33.118219Z",
     "iopub.status.busy": "2022-02-25T16:31:33.117673Z",
     "iopub.status.idle": "2022-02-25T16:31:56.477412Z",
     "shell.execute_reply": "2022-02-25T16:31:56.476569Z",
     "shell.execute_reply.started": "2022-02-25T16:31:33.118172Z"
    }
   },
   "outputs": [],
   "source": [
    "X_train = []\n",
    "y_train = []\n",
    "X_test = []\n",
    "y_test = []\n",
    "for index, row in df.iterrows():\n",
    "    k = row['pixels'].split(\" \")\n",
    "    if row['Usage'] == 'Training':\n",
    "        X_train.append(np.array(k))\n",
    "        y_train.append(row['emotion'])\n",
    "    elif row['Usage'] == 'PublicTest':\n",
    "        X_test.append(np.array(k))\n",
    "        y_test.append(row['emotion'])"
   ]
  },
  {
   "cell_type": "code",
   "execution_count": 10,
   "metadata": {
    "execution": {
     "iopub.execute_input": "2022-02-25T16:32:35.485688Z",
     "iopub.status.busy": "2022-02-25T16:32:35.484925Z",
     "iopub.status.idle": "2022-02-25T16:32:35.492255Z",
     "shell.execute_reply": "2022-02-25T16:32:35.491481Z",
     "shell.execute_reply.started": "2022-02-25T16:32:35.485649Z"
    }
   },
   "outputs": [
    {
     "data": {
      "text/plain": [
       "array(['70', '80', '82', ..., '106', '109', '82'], dtype='<U3')"
      ]
     },
     "execution_count": 10,
     "metadata": {},
     "output_type": "execute_result"
    }
   ],
   "source": [
    "X_train[0]"
   ]
  },
  {
   "cell_type": "code",
   "execution_count": 11,
   "metadata": {
    "execution": {
     "iopub.execute_input": "2022-02-25T16:32:36.458937Z",
     "iopub.status.busy": "2022-02-25T16:32:36.458402Z",
     "iopub.status.idle": "2022-02-25T16:32:36.690090Z",
     "shell.execute_reply": "2022-02-25T16:32:36.689425Z",
     "shell.execute_reply.started": "2022-02-25T16:32:36.458898Z"
    }
   },
   "outputs": [
    {
     "data": {
      "text/plain": [
       "<matplotlib.image.AxesImage at 0x7f8e5f26aa10>"
      ]
     },
     "execution_count": 11,
     "metadata": {},
     "output_type": "execute_result"
    },
    {
     "data": {
      "image/png": "[encoded data removed]",
      "text/plain": [
       "<Figure size 432x288 with 1 Axes>"
      ]
     },
     "metadata": {},
     "output_type": "display_data"
    }
   ],
   "source": [
    "plt.imshow(np.array(X_train[0], dtype = 'uint8').reshape(48,48,1), cmap = 'gray')"
   ]
  },
  {
   "cell_type": "markdown",
   "metadata": {},
   "source": [
    "At this stage X_train, X_test contains pixel’s number is in the form of a string, converting it into numbers is easy, we just need to typecast.\n"
   ]
  },
  {
   "cell_type": "code",
   "execution_count": 12,
   "metadata": {
    "execution": {
     "iopub.execute_input": "2022-02-25T16:32:40.408696Z",
     "iopub.status.busy": "2022-02-25T16:32:40.407988Z",
     "iopub.status.idle": "2022-02-25T16:33:18.286021Z",
     "shell.execute_reply": "2022-02-25T16:33:18.285171Z",
     "shell.execute_reply.started": "2022-02-25T16:32:40.408656Z"
    }
   },
   "outputs": [],
   "source": [
    "X_train = np.array(X_train, dtype = 'uint8')\n",
    "y_train = np.array(y_train, dtype = 'uint8')\n",
    "X_test = np.array(X_test, dtype = 'uint8')\n",
    "y_test = np.array(y_test, dtype = 'uint8')"
   ]
  },
  {
   "cell_type": "markdown",
   "metadata": {},
   "source": [
    "y_test, y_train contains 1D integer encoded labels, we need to connect them into categorical data for efficient training.\n"
   ]
  },
  {
   "cell_type": "code",
   "execution_count": 13,
   "metadata": {
    "execution": {
     "iopub.execute_input": "2022-02-25T16:33:18.288061Z",
     "iopub.status.busy": "2022-02-25T16:33:18.287848Z",
     "iopub.status.idle": "2022-02-25T16:33:18.298027Z",
     "shell.execute_reply": "2022-02-25T16:33:18.297116Z",
     "shell.execute_reply.started": "2022-02-25T16:33:18.288031Z"
    }
   },
   "outputs": [],
   "source": [
    "X_train = X_train.reshape(X_train.shape[0], 48, 48, 1)\n",
    "X_test = X_test.reshape(X_test.shape[0], 48, 48, 1)"
   ]
  },
  {
   "cell_type": "code",
   "execution_count": 14,
   "metadata": {
    "execution": {
     "iopub.execute_input": "2022-02-25T16:33:18.300964Z",
     "iopub.status.busy": "2022-02-25T16:33:18.300762Z",
     "iopub.status.idle": "2022-02-25T16:33:18.310071Z",
     "shell.execute_reply": "2022-02-25T16:33:18.309245Z",
     "shell.execute_reply.started": "2022-02-25T16:33:18.300940Z"
    }
   },
   "outputs": [
    {
     "data": {
      "text/plain": [
       "(28709, 48, 48, 1)"
      ]
     },
     "execution_count": 14,
     "metadata": {},
     "output_type": "execute_result"
    }
   ],
   "source": [
    "X_train.shape"
   ]
  },
  {
   "cell_type": "code",
   "execution_count": 15,
   "metadata": {
    "execution": {
     "iopub.execute_input": "2022-02-25T16:34:08.155703Z",
     "iopub.status.busy": "2022-02-25T16:34:08.155115Z",
     "iopub.status.idle": "2022-02-25T16:34:09.620576Z",
     "shell.execute_reply": "2022-02-25T16:34:09.619839Z",
     "shell.execute_reply.started": "2022-02-25T16:34:08.155661Z"
    }
   },
   "outputs": [],
   "source": [
    "import keras\n",
    "from tensorflow.keras.utils import to_categorical\n",
    "y_train= to_categorical(y_train, num_classes=7)\n",
    "y_test = to_categorical(y_test, num_classes=7)"
   ]
  },
  {
   "cell_type": "markdown",
   "metadata": {},
   "source": [
    "# Image Augmentation for Facial Emotion Detection\n",
    "\n",
    "Image data augmentation is used to improve the performance and ability of the model to generalize. It’s always a good practice to apply some\n",
    "data augmentation before passing it to the model, which can be done using ImageDataGenetrator provided by Keras. "
   ]
  },
  {
   "cell_type": "code",
   "execution_count": 31,
   "metadata": {
    "execution": {
     "iopub.execute_input": "2022-02-25T17:33:26.100684Z",
     "iopub.status.busy": "2022-02-25T17:33:26.100104Z",
     "iopub.status.idle": "2022-02-25T17:33:26.575502Z",
     "shell.execute_reply": "2022-02-25T17:33:26.574732Z",
     "shell.execute_reply.started": "2022-02-25T17:33:26.100643Z"
    }
   },
   "outputs": [],
   "source": [
    "from keras.preprocessing.image import ImageDataGenerator \n",
    "datagen = ImageDataGenerator( \n",
    "    rescale=1./255,\n",
    "    rotation_range = 10,\n",
    "    horizontal_flip = True,\n",
    "    width_shift_range=0.1,\n",
    "    height_shift_range=0.1,\n",
    "    fill_mode = 'nearest')\n",
    "\n",
    "testgen = ImageDataGenerator( \n",
    "    rescale=1./255\n",
    "    )\n",
    "datagen.fit(X_train)\n",
    "batch_size = 128"
   ]
  },
  {
   "cell_type": "markdown",
   "metadata": {},
   "source": [
    "# Fitting the generator to our data\n",
    "\n",
    "We will use batch_size of 32 and after fitting our data to our image generator, data will be generated in the batch size of 64. Using a data generator is the best way to train a large amount of data."
   ]
  },
  {
   "cell_type": "code",
   "execution_count": 32,
   "metadata": {
    "execution": {
     "iopub.execute_input": "2022-02-25T17:33:26.577134Z",
     "iopub.status.busy": "2022-02-25T17:33:26.576900Z",
     "iopub.status.idle": "2022-02-25T17:33:26.651427Z",
     "shell.execute_reply": "2022-02-25T17:33:26.650663Z",
     "shell.execute_reply.started": "2022-02-25T17:33:26.577101Z"
    }
   },
   "outputs": [],
   "source": [
    "train_flow = datagen.flow(X_train, y_train, batch_size=batch_size) \n",
    "test_flow = testgen.flow(X_test, y_test, batch_size=batch_size)"
   ]
  },
  {
   "cell_type": "code",
   "execution_count": 33,
   "metadata": {
    "execution": {
     "iopub.execute_input": "2022-02-25T17:33:26.653419Z",
     "iopub.status.busy": "2022-02-25T17:33:26.653062Z",
     "iopub.status.idle": "2022-02-25T17:33:27.567754Z",
     "shell.execute_reply": "2022-02-25T17:33:27.567101Z",
     "shell.execute_reply.started": "2022-02-25T17:33:26.653378Z"
    }
   },
   "outputs": [
    {
     "data": {
      "image/png": "[encoded data removed]",
      "text/plain": [
       "<Figure size 432x288 with 9 Axes>"
      ]
     },
     "metadata": {},
     "output_type": "display_data"
    }
   ],
   "source": [
    "for X_batch, y_batch in datagen.flow(X_train, y_train, batch_size=9):\n",
    "    for i in range(0, 9): \n",
    "        plt.axis('off') \n",
    "        plt.subplot(330 + 1 + i) \n",
    "        plt.imshow(X_batch[i].reshape(48, 48), cmap=plt.get_cmap('gray'))\n",
    "    plt.axis('off') \n",
    "    plt.show() \n",
    "    break"
   ]
  },
  {
   "cell_type": "markdown",
   "metadata": {},
   "source": [
    "# Building Facial Emotion Detection Model using CNN\n",
    "Building the model using functional API gives more flexibility.\n"
   ]
  },
  {
   "cell_type": "code",
   "execution_count": 34,
   "metadata": {
    "execution": {
     "iopub.execute_input": "2022-02-25T17:33:27.569908Z",
     "iopub.status.busy": "2022-02-25T17:33:27.569303Z",
     "iopub.status.idle": "2022-02-25T17:33:27.577596Z",
     "shell.execute_reply": "2022-02-25T17:33:27.576923Z",
     "shell.execute_reply.started": "2022-02-25T17:33:27.569868Z"
    }
   },
   "outputs": [],
   "source": [
    "from keras.layers import ZeroPadding2D,Convolution2D,MaxPooling2D,Flatten,Dense,Dropout\n",
    "from keras.models import Sequential\n",
    "from tensorflow.keras.utils import plot_model\n",
    "from tensorflow.keras.models import Model\n",
    "from tensorflow.keras.layers import Input, Dense, Flatten, Dropout, BatchNormalization\n",
    "from keras.layers.convolutional import Conv2D\n",
    "from keras.layers.pooling import MaxPooling2D\n",
    "from keras.layers.merge import concatenate\n",
    "from tensorflow.keras.optimizers import Adam, SGD\n",
    "from keras.regularizers import l1, l2\n",
    "from matplotlib import pyplot as plt\n",
    "from sklearn.metrics import confusion_matrix"
   ]
  },
  {
   "cell_type": "markdown",
   "metadata": {},
   "source": [
    "FER_model takes input size and returns model for training. Now let’s define the architecture of the model."
   ]
  },
  {
   "cell_type": "code",
   "execution_count": 55,
   "metadata": {
    "execution": {
     "iopub.execute_input": "2022-02-25T18:13:03.857585Z",
     "iopub.status.busy": "2022-02-25T18:13:03.857209Z",
     "iopub.status.idle": "2022-02-25T18:13:03.881234Z",
     "shell.execute_reply": "2022-02-25T18:13:03.880467Z",
     "shell.execute_reply.started": "2022-02-25T18:13:03.857549Z"
    }
   },
   "outputs": [],
   "source": [
    "def FER_Model(input_shape=(48,48,1)):\n",
    "    # first input model\n",
    "    model.Sequential()\n",
    "    visible = Input(shape=input_shape, name='input')\n",
    "    num_classes = 7\n",
    "    #the 1-st block\n",
    "    conv1_1 = Conv2D(64, kernel_size=3, activation='relu', padding='same', name = 'conv1_1')(visible)\n",
    "    conv1_1 = BatchNormalization()(conv1_1)\n",
    "    conv1_2 = Conv2D(64, kernel_size=3, activation='relu', padding='same', name = 'conv1_2')(conv1_1)\n",
    "    conv1_2 = BatchNormalization()(conv1_2)\n",
    "    pool1_1 = MaxPooling2D(pool_size=(2,2), name = 'pool1_1')(conv1_2)\n",
    "    drop1_1 = Dropout(0.6, name = 'drop1_1')(pool1_1)\n",
    "\n",
    "    #the 2-nd block\n",
    "    conv2_1 = Conv2D(128, kernel_size=3, activation='relu', padding='same', name = 'conv2_1')(drop1_1)\n",
    "    conv2_1 = BatchNormalization()(conv2_1)\n",
    "    conv2_2 = Conv2D(128, kernel_size=3, activation='relu', padding='same', name = 'conv2_2')(conv2_1)\n",
    "    conv2_2 = BatchNormalization()(conv2_2)\n",
    "    conv2_3 = Conv2D(128, kernel_size=3, activation='relu', padding='same', name = 'conv2_3')(conv2_2)\n",
    "    conv2_2 = BatchNormalization()(conv2_3)\n",
    "    pool2_1 = MaxPooling2D(pool_size=(2,2), name = 'pool2_1')(conv2_3)\n",
    "    drop2_1 = Dropout(0.6, name = 'drop2_1')(pool2_1)\n",
    "\n",
    "     #the 3-rd block\n",
    "    conv3_1 = Conv2D(256, kernel_size=3, activation='relu', padding='same', name = 'conv3_1')(drop2_1)\n",
    "    conv3_1 = BatchNormalization()(conv3_1)\n",
    "    conv3_2 = Conv2D(256, kernel_size=3, activation='relu', padding='same', name = 'conv3_2')(conv3_1)\n",
    "    conv3_2 = BatchNormalization()(conv3_2)\n",
    "    conv3_3 = Conv2D(256, kernel_size=3, activation='relu', padding='same', name = 'conv3_3')(conv3_2)\n",
    "    conv3_3 = BatchNormalization()(conv3_3)\n",
    "    conv3_4 = Conv2D(256, kernel_size=3, activation='relu', padding='same', name = 'conv3_4')(conv3_3)\n",
    "    conv3_4 = BatchNormalization()(conv3_4)\n",
    "    pool3_1 = MaxPooling2D(pool_size=(2,2), name = 'pool3_1')(conv3_4)\n",
    "    drop3_1 = Dropout(0.6, name = 'drop3_1')(pool3_1)\n",
    "\n",
    "    #the 4-th block\n",
    "    conv4_1 = Conv2D(512, kernel_size=3, activation='relu', padding='same', name = 'conv4_1')(drop3_1)\n",
    "    conv4_1 = BatchNormalization()(conv4_1)\n",
    "    conv4_2 = Conv2D(512, kernel_size=3, activation='relu', padding='same', name = 'conv4_2')(conv4_1)\n",
    "    conv4_2 = BatchNormalization()(conv4_2)\n",
    "    conv4_3 = Conv2D(512, kernel_size=3, activation='relu', padding='same', name = 'conv4_3')(conv4_2)\n",
    "    conv4_3 = BatchNormalization()(conv4_3)\n",
    "    conv4_4 = Conv2D(512, kernel_size=3, activation='relu', padding='same', name = 'conv4_4')(conv4_3)\n",
    "    conv4_4 = BatchNormalization()(conv4_4)\n",
    "    pool4_1 = MaxPooling2D(pool_size=(2,2), name = 'pool4_1')(conv4_4)\n",
    "    drop4_1 = Dropout(0.6, name = 'drop4_1')(pool4_1)\n",
    "    \n",
    "    #the 5-th block\n",
    "    conv5_1 = Conv2D(1024, kernel_size=3, activation='relu', padding='same', name = 'conv5_1')(drop4_1)\n",
    "    conv5_1 = BatchNormalization()(conv5_1)\n",
    "    conv5_2 = Conv2D(1024, kernel_size=3, activation='relu', padding='same', name = 'conv5_2')(conv5_1)\n",
    "    conv5_2 = BatchNormalization()(conv5_2)\n",
    "    conv5_3 = Conv2D(1024, kernel_size=3, activation='relu', padding='same', name = 'conv5_3')(conv5_2)\n",
    "    conv5_3 = BatchNormalization()(conv5_3)\n",
    "    conv5_4 = Conv2D(1024, kernel_size=3, activation='relu', padding='same', name = 'conv5_4')(conv5_3)\n",
    "    conv5_3 = BatchNormalization()(conv5_3)\n",
    "    pool5_1 = MaxPooling2D(pool_size=(2,2), name = 'pool5_1')(conv5_4)\n",
    "    drop5_1 = Dropout(0.6, name = 'drop5_1')(pool5_1)\n",
    "    \n",
    "    #Flatten and output\n",
    "    flatten = Flatten(name = 'flatten')(drop5_1)\n",
    "    ouput = Dense(num_classes, activation='softmax', name = 'output')(flatten)\n",
    "\n",
    "    # create model \n",
    "    model = Model(inputs =visible, outputs = ouput)\n",
    "    # summary layers\n",
    "    print(model.summary())\n",
    "    \n",
    "    return model"
   ]
  },
  {
   "cell_type": "markdown",
   "metadata": {},
   "source": [
    "# Compiling the Facial Emotion Detection Model\n",
    "\n",
    "Compiling model using Adam optimizer keeping lr= 0.001, if the model’s accuracy doesn’t improve after some epochs learning rate decreases by decay factor."
   ]
  },
  {
   "cell_type": "code",
   "execution_count": 56,
   "metadata": {
    "execution": {
     "iopub.execute_input": "2022-02-25T18:13:06.115197Z",
     "iopub.status.busy": "2022-02-25T18:13:06.114942Z",
     "iopub.status.idle": "2022-02-25T18:13:06.408023Z",
     "shell.execute_reply": "2022-02-25T18:13:06.407145Z",
     "shell.execute_reply.started": "2022-02-25T18:13:06.115168Z"
    }
   },
   "outputs": [
    {
     "name": "stdout",
     "output_type": "stream",
     "text": [
      "Model: \"model_2\"\n",
      "_________________________________________________________________\n",
      "Layer (type)                 Output Shape              Param #   \n",
      "=================================================================\n",
      "input (InputLayer)           [(None, 48, 48, 1)]       0         \n",
      "_________________________________________________________________\n",
      "conv1_1 (Conv2D)             (None, 48, 48, 64)        640       \n",
      "_________________________________________________________________\n",
      "batch_normalization_34 (Batc (None, 48, 48, 64)        256       \n",
      "_________________________________________________________________\n",
      "conv1_2 (Conv2D)             (None, 48, 48, 64)        36928     \n",
      "_________________________________________________________________\n",
      "batch_normalization_35 (Batc (None, 48, 48, 64)        256       \n",
      "_________________________________________________________________\n",
      "pool1_1 (MaxPooling2D)       (None, 24, 24, 64)        0         \n",
      "_________________________________________________________________\n",
      "drop1_1 (Dropout)            (None, 24, 24, 64)        0         \n",
      "_________________________________________________________________\n",
      "conv2_1 (Conv2D)             (None, 24, 24, 128)       73856     \n",
      "_________________________________________________________________\n",
      "batch_normalization_36 (Batc (None, 24, 24, 128)       512       \n",
      "_________________________________________________________________\n",
      "conv2_2 (Conv2D)             (None, 24, 24, 128)       147584    \n",
      "_________________________________________________________________\n",
      "batch_normalization_37 (Batc (None, 24, 24, 128)       512       \n",
      "_________________________________________________________________\n",
      "conv2_3 (Conv2D)             (None, 24, 24, 128)       147584    \n",
      "_________________________________________________________________\n",
      "pool2_1 (MaxPooling2D)       (None, 12, 12, 128)       0         \n",
      "_________________________________________________________________\n",
      "drop2_1 (Dropout)            (None, 12, 12, 128)       0         \n",
      "_________________________________________________________________\n",
      "conv3_1 (Conv2D)             (None, 12, 12, 256)       295168    \n",
      "_________________________________________________________________\n",
      "batch_normalization_39 (Batc (None, 12, 12, 256)       1024      \n",
      "_________________________________________________________________\n",
      "conv3_2 (Conv2D)             (None, 12, 12, 256)       590080    \n",
      "_________________________________________________________________\n",
      "batch_normalization_40 (Batc (None, 12, 12, 256)       1024      \n",
      "_________________________________________________________________\n",
      "conv3_3 (Conv2D)             (None, 12, 12, 256)       590080    \n",
      "_________________________________________________________________\n",
      "batch_normalization_41 (Batc (None, 12, 12, 256)       1024      \n",
      "_________________________________________________________________\n",
      "conv3_4 (Conv2D)             (None, 12, 12, 256)       590080    \n",
      "_________________________________________________________________\n",
      "batch_normalization_42 (Batc (None, 12, 12, 256)       1024      \n",
      "_________________________________________________________________\n",
      "pool3_1 (MaxPooling2D)       (None, 6, 6, 256)         0         \n",
      "_________________________________________________________________\n",
      "drop3_1 (Dropout)            (None, 6, 6, 256)         0         \n",
      "_________________________________________________________________\n",
      "conv4_1 (Conv2D)             (None, 6, 6, 512)         1180160   \n",
      "_________________________________________________________________\n",
      "batch_normalization_43 (Batc (None, 6, 6, 512)         2048      \n",
      "_________________________________________________________________\n",
      "conv4_2 (Conv2D)             (None, 6, 6, 512)         2359808   \n",
      "_________________________________________________________________\n",
      "batch_normalization_44 (Batc (None, 6, 6, 512)         2048      \n",
      "_________________________________________________________________\n",
      "conv4_3 (Conv2D)             (None, 6, 6, 512)         2359808   \n",
      "_________________________________________________________________\n",
      "batch_normalization_45 (Batc (None, 6, 6, 512)         2048      \n",
      "_________________________________________________________________\n",
      "conv4_4 (Conv2D)             (None, 6, 6, 512)         2359808   \n",
      "_________________________________________________________________\n",
      "batch_normalization_46 (Batc (None, 6, 6, 512)         2048      \n",
      "_________________________________________________________________\n",
      "pool4_1 (MaxPooling2D)       (None, 3, 3, 512)         0         \n",
      "_________________________________________________________________\n",
      "drop4_1 (Dropout)            (None, 3, 3, 512)         0         \n",
      "_________________________________________________________________\n",
      "conv5_1 (Conv2D)             (None, 3, 3, 1024)        4719616   \n",
      "_________________________________________________________________\n",
      "batch_normalization_47 (Batc (None, 3, 3, 1024)        4096      \n",
      "_________________________________________________________________\n",
      "conv5_2 (Conv2D)             (None, 3, 3, 1024)        9438208   \n",
      "_________________________________________________________________\n",
      "batch_normalization_48 (Batc (None, 3, 3, 1024)        4096      \n",
      "_________________________________________________________________\n",
      "conv5_3 (Conv2D)             (None, 3, 3, 1024)        9438208   \n",
      "_________________________________________________________________\n",
      "batch_normalization_49 (Batc (None, 3, 3, 1024)        4096      \n",
      "_________________________________________________________________\n",
      "conv5_4 (Conv2D)             (None, 3, 3, 1024)        9438208   \n",
      "_________________________________________________________________\n",
      "pool5_1 (MaxPooling2D)       (None, 1, 1, 1024)        0         \n",
      "_________________________________________________________________\n",
      "drop5_1 (Dropout)            (None, 1, 1, 1024)        0         \n",
      "_________________________________________________________________\n",
      "flatten (Flatten)            (None, 1024)              0         \n",
      "_________________________________________________________________\n",
      "output (Dense)               (None, 7)                 7175      \n",
      "=================================================================\n",
      "Total params: 43,799,111\n",
      "Trainable params: 43,786,055\n",
      "Non-trainable params: 13,056\n",
      "_________________________________________________________________\n",
      "None\n"
     ]
    }
   ],
   "source": [
    "model = FER_Model()\n",
    "opt = Adam(learning_rate=0.0001, decay=1e-6)\n",
    "model.compile(loss='categorical_crossentropy', optimizer=opt, metrics=['accuracy'])"
   ]
  },
  {
   "cell_type": "code",
   "execution_count": 57,
   "metadata": {
    "execution": {
     "iopub.execute_input": "2022-02-25T18:13:20.519171Z",
     "iopub.status.busy": "2022-02-25T18:13:20.518907Z",
     "iopub.status.idle": "2022-02-25T18:13:20.526343Z",
     "shell.execute_reply": "2022-02-25T18:13:20.525656Z",
     "shell.execute_reply.started": "2022-02-25T18:13:20.519139Z"
    }
   },
   "outputs": [],
   "source": [
    "from keras.callbacks import ModelCheckpoint\n",
    "filepath=\"weights_min_loss.hdf5\"\n",
    "checkpoint = ModelCheckpoint(filepath, monitor='val_loss', verbose=1, save_best_only=True, mode='min')\n",
    "callbacks_list = [checkpoint]"
   ]
  },
  {
   "cell_type": "markdown",
   "metadata": {},
   "source": [
    "# Training the Facial Emotion Detection Model\n",
    "\n",
    "To train the model you need to write the following line of code."
   ]
  },
  {
   "cell_type": "code",
   "execution_count": 58,
   "metadata": {
    "execution": {
     "iopub.execute_input": "2022-02-25T18:13:28.494859Z",
     "iopub.status.busy": "2022-02-25T18:13:28.494254Z",
     "iopub.status.idle": "2022-02-25T18:59:21.168240Z",
     "shell.execute_reply": "2022-02-25T18:59:21.166808Z",
     "shell.execute_reply.started": "2022-02-25T18:13:28.494805Z"
    }
   },
   "outputs": [
    {
     "name": "stdout",
     "output_type": "stream",
     "text": [
      "Epoch 1/100\n",
      "224/224 [==============================] - 27s 111ms/step - loss: 2.3054 - accuracy: 0.1969 - val_loss: 1.8822 - val_accuracy: 0.2430\n",
      "\n",
      "Epoch 00001: val_loss improved from inf to 1.88220, saving model to weights_min_loss.hdf5\n",
      "Epoch 2/100\n",
      "224/224 [==============================] - 24s 108ms/step - loss: 1.8353 - accuracy: 0.2291 - val_loss: 1.9343 - val_accuracy: 0.2494\n",
      "\n",
      "Epoch 00002: val_loss did not improve from 1.88220\n",
      "Epoch 3/100\n",
      "224/224 [==============================] - 24s 107ms/step - loss: 1.8154 - accuracy: 0.2368 - val_loss: 1.9006 - val_accuracy: 0.2494\n",
      "\n",
      "Epoch 00003: val_loss did not improve from 1.88220\n",
      "Epoch 4/100\n",
      "224/224 [==============================] - 24s 107ms/step - loss: 1.8078 - accuracy: 0.2429 - val_loss: 1.8227 - val_accuracy: 0.2491\n",
      "\n",
      "Epoch 00004: val_loss improved from 1.88220 to 1.82270, saving model to weights_min_loss.hdf5\n",
      "Epoch 5/100\n",
      "224/224 [==============================] - 24s 108ms/step - loss: 1.7988 - accuracy: 0.2464 - val_loss: 1.8743 - val_accuracy: 0.2494\n",
      "\n",
      "Epoch 00005: val_loss did not improve from 1.82270\n",
      "Epoch 6/100\n",
      "224/224 [==============================] - 24s 107ms/step - loss: 1.7948 - accuracy: 0.2513 - val_loss: 1.8454 - val_accuracy: 0.2491\n",
      "\n",
      "Epoch 00006: val_loss did not improve from 1.82270\n",
      "Epoch 7/100\n",
      "224/224 [==============================] - 24s 107ms/step - loss: 1.7929 - accuracy: 0.2530 - val_loss: 1.8847 - val_accuracy: 0.2499\n",
      "\n",
      "Epoch 00007: val_loss did not improve from 1.82270\n",
      "Epoch 8/100\n",
      "224/224 [==============================] - 24s 108ms/step - loss: 1.7837 - accuracy: 0.2607 - val_loss: 1.9557 - val_accuracy: 0.2293\n",
      "\n",
      "Epoch 00008: val_loss did not improve from 1.82270\n",
      "Epoch 9/100\n",
      "224/224 [==============================] - 24s 108ms/step - loss: 1.7759 - accuracy: 0.2620 - val_loss: 1.9557 - val_accuracy: 0.2488\n",
      "\n",
      "Epoch 00009: val_loss did not improve from 1.82270\n",
      "Epoch 10/100\n",
      "224/224 [==============================] - 24s 107ms/step - loss: 1.7559 - accuracy: 0.2755 - val_loss: 1.9773 - val_accuracy: 0.2494\n",
      "\n",
      "Epoch 00010: val_loss did not improve from 1.82270\n",
      "Epoch 11/100\n",
      "224/224 [==============================] - 24s 107ms/step - loss: 1.7392 - accuracy: 0.2846 - val_loss: 1.9552 - val_accuracy: 0.2505\n",
      "\n",
      "Epoch 00011: val_loss did not improve from 1.82270\n",
      "Epoch 12/100\n",
      "224/224 [==============================] - 24s 108ms/step - loss: 1.7146 - accuracy: 0.2962 - val_loss: 2.2820 - val_accuracy: 0.2494\n",
      "\n",
      "Epoch 00012: val_loss did not improve from 1.82270\n",
      "Epoch 13/100\n",
      "224/224 [==============================] - 24s 107ms/step - loss: 1.6903 - accuracy: 0.3184 - val_loss: 1.8990 - val_accuracy: 0.3009\n",
      "\n",
      "Epoch 00013: val_loss did not improve from 1.82270\n",
      "Epoch 14/100\n",
      "224/224 [==============================] - 24s 108ms/step - loss: 1.6527 - accuracy: 0.3435 - val_loss: 1.6809 - val_accuracy: 0.3717\n",
      "\n",
      "Epoch 00014: val_loss improved from 1.82270 to 1.68088, saving model to weights_min_loss.hdf5\n",
      "Epoch 15/100\n",
      "224/224 [==============================] - 24s 108ms/step - loss: 1.6177 - accuracy: 0.3616 - val_loss: 1.7280 - val_accuracy: 0.3681\n",
      "\n",
      "Epoch 00015: val_loss did not improve from 1.68088\n",
      "Epoch 16/100\n",
      "224/224 [==============================] - 24s 108ms/step - loss: 1.5852 - accuracy: 0.3808 - val_loss: 1.5399 - val_accuracy: 0.4107\n",
      "\n",
      "Epoch 00016: val_loss improved from 1.68088 to 1.53985, saving model to weights_min_loss.hdf5\n",
      "Epoch 17/100\n",
      "224/224 [==============================] - 24s 109ms/step - loss: 1.5474 - accuracy: 0.3965 - val_loss: 1.4957 - val_accuracy: 0.4302\n",
      "\n",
      "Epoch 00017: val_loss improved from 1.53985 to 1.49570, saving model to weights_min_loss.hdf5\n",
      "Epoch 18/100\n",
      "224/224 [==============================] - 24s 108ms/step - loss: 1.5138 - accuracy: 0.4112 - val_loss: 1.4622 - val_accuracy: 0.4419\n",
      "\n",
      "Epoch 00018: val_loss improved from 1.49570 to 1.46221, saving model to weights_min_loss.hdf5\n",
      "Epoch 19/100\n",
      "224/224 [==============================] - 24s 108ms/step - loss: 1.4786 - accuracy: 0.4279 - val_loss: 1.4273 - val_accuracy: 0.4592\n",
      "\n",
      "Epoch 00019: val_loss improved from 1.46221 to 1.42732, saving model to weights_min_loss.hdf5\n",
      "Epoch 20/100\n",
      "224/224 [==============================] - 24s 108ms/step - loss: 1.4474 - accuracy: 0.4411 - val_loss: 1.4431 - val_accuracy: 0.4600\n",
      "\n",
      "Epoch 00020: val_loss did not improve from 1.42732\n",
      "Epoch 21/100\n",
      "224/224 [==============================] - 24s 107ms/step - loss: 1.4093 - accuracy: 0.4596 - val_loss: 1.3162 - val_accuracy: 0.4990\n",
      "\n",
      "Epoch 00021: val_loss improved from 1.42732 to 1.31624, saving model to weights_min_loss.hdf5\n",
      "Epoch 22/100\n",
      "224/224 [==============================] - 24s 108ms/step - loss: 1.3707 - accuracy: 0.4764 - val_loss: 1.3029 - val_accuracy: 0.5038\n",
      "\n",
      "Epoch 00022: val_loss improved from 1.31624 to 1.30294, saving model to weights_min_loss.hdf5\n",
      "Epoch 23/100\n",
      "224/224 [==============================] - 24s 108ms/step - loss: 1.3450 - accuracy: 0.4878 - val_loss: 1.3168 - val_accuracy: 0.5024\n",
      "\n",
      "Epoch 00023: val_loss did not improve from 1.30294\n",
      "Epoch 24/100\n",
      "224/224 [==============================] - 24s 108ms/step - loss: 1.3253 - accuracy: 0.4926 - val_loss: 1.2567 - val_accuracy: 0.5261\n",
      "\n",
      "Epoch 00024: val_loss improved from 1.30294 to 1.25667, saving model to weights_min_loss.hdf5\n",
      "Epoch 25/100\n",
      "224/224 [==============================] - 24s 108ms/step - loss: 1.2963 - accuracy: 0.5041 - val_loss: 1.2180 - val_accuracy: 0.5386\n",
      "\n",
      "Epoch 00025: val_loss improved from 1.25667 to 1.21804, saving model to weights_min_loss.hdf5\n",
      "Epoch 26/100\n",
      "224/224 [==============================] - 24s 108ms/step - loss: 1.2673 - accuracy: 0.5197 - val_loss: 1.2291 - val_accuracy: 0.5266\n",
      "\n",
      "Epoch 00026: val_loss did not improve from 1.21804\n",
      "Epoch 27/100\n",
      "224/224 [==============================] - 24s 108ms/step - loss: 1.2544 - accuracy: 0.5243 - val_loss: 1.1581 - val_accuracy: 0.5564\n",
      "\n",
      "Epoch 00027: val_loss improved from 1.21804 to 1.15812, saving model to weights_min_loss.hdf5\n",
      "Epoch 28/100\n",
      "224/224 [==============================] - 24s 107ms/step - loss: 1.2390 - accuracy: 0.5313 - val_loss: 1.1467 - val_accuracy: 0.5564\n",
      "\n",
      "Epoch 00028: val_loss improved from 1.15812 to 1.14674, saving model to weights_min_loss.hdf5\n",
      "Epoch 29/100\n",
      "224/224 [==============================] - 24s 108ms/step - loss: 1.2175 - accuracy: 0.5393 - val_loss: 1.1819 - val_accuracy: 0.5531\n",
      "\n",
      "Epoch 00029: val_loss did not improve from 1.14674\n",
      "Epoch 30/100\n",
      "224/224 [==============================] - 24s 107ms/step - loss: 1.1950 - accuracy: 0.5464 - val_loss: 1.1689 - val_accuracy: 0.5623\n",
      "\n",
      "Epoch 00030: val_loss did not improve from 1.14674\n",
      "Epoch 31/100\n",
      "224/224 [==============================] - 24s 108ms/step - loss: 1.1853 - accuracy: 0.5527 - val_loss: 1.1727 - val_accuracy: 0.5564\n",
      "\n",
      "Epoch 00031: val_loss did not improve from 1.14674\n",
      "Epoch 32/100\n",
      "224/224 [==============================] - 24s 107ms/step - loss: 1.1716 - accuracy: 0.5606 - val_loss: 1.1099 - val_accuracy: 0.5731\n",
      "\n",
      "Epoch 00032: val_loss improved from 1.14674 to 1.10993, saving model to weights_min_loss.hdf5\n",
      "Epoch 33/100\n",
      "224/224 [==============================] - 24s 107ms/step - loss: 1.1538 - accuracy: 0.5681 - val_loss: 1.1235 - val_accuracy: 0.5776\n",
      "\n",
      "Epoch 00033: val_loss did not improve from 1.10993\n",
      "Epoch 34/100\n",
      "224/224 [==============================] - 24s 108ms/step - loss: 1.1451 - accuracy: 0.5704 - val_loss: 1.1236 - val_accuracy: 0.5815\n",
      "\n",
      "Epoch 00034: val_loss did not improve from 1.10993\n",
      "Epoch 35/100\n",
      "224/224 [==============================] - 24s 107ms/step - loss: 1.1313 - accuracy: 0.5758 - val_loss: 1.1029 - val_accuracy: 0.5843\n",
      "\n",
      "Epoch 00035: val_loss improved from 1.10993 to 1.10288, saving model to weights_min_loss.hdf5\n",
      "Epoch 36/100\n",
      "224/224 [==============================] - 24s 108ms/step - loss: 1.1190 - accuracy: 0.5773 - val_loss: 1.0764 - val_accuracy: 0.5954\n",
      "\n",
      "Epoch 00036: val_loss improved from 1.10288 to 1.07641, saving model to weights_min_loss.hdf5\n",
      "Epoch 37/100\n",
      "224/224 [==============================] - 24s 108ms/step - loss: 1.1050 - accuracy: 0.5809 - val_loss: 1.0870 - val_accuracy: 0.5876\n",
      "\n",
      "Epoch 00037: val_loss did not improve from 1.07641\n",
      "Epoch 38/100\n",
      "224/224 [==============================] - 24s 108ms/step - loss: 1.0940 - accuracy: 0.5871 - val_loss: 1.0589 - val_accuracy: 0.6080\n",
      "\n",
      "Epoch 00038: val_loss improved from 1.07641 to 1.05890, saving model to weights_min_loss.hdf5\n",
      "Epoch 39/100\n",
      "224/224 [==============================] - 24s 108ms/step - loss: 1.0861 - accuracy: 0.5897 - val_loss: 1.0687 - val_accuracy: 0.5913\n",
      "\n",
      "Epoch 00039: val_loss did not improve from 1.05890\n",
      "Epoch 40/100\n",
      "224/224 [==============================] - 24s 108ms/step - loss: 1.0784 - accuracy: 0.5991 - val_loss: 1.0789 - val_accuracy: 0.5965\n",
      "\n",
      "Epoch 00040: val_loss did not improve from 1.05890\n",
      "Epoch 41/100\n",
      "224/224 [==============================] - 24s 107ms/step - loss: 1.0606 - accuracy: 0.6028 - val_loss: 1.0818 - val_accuracy: 0.5932\n",
      "\n",
      "Epoch 00041: val_loss did not improve from 1.05890\n",
      "Epoch 42/100\n",
      "224/224 [==============================] - 24s 108ms/step - loss: 1.0494 - accuracy: 0.6066 - val_loss: 1.0447 - val_accuracy: 0.6024\n",
      "\n",
      "Epoch 00042: val_loss improved from 1.05890 to 1.04466, saving model to weights_min_loss.hdf5\n",
      "Epoch 43/100\n",
      "224/224 [==============================] - 24s 109ms/step - loss: 1.0429 - accuracy: 0.6080 - val_loss: 1.0595 - val_accuracy: 0.6057\n",
      "\n",
      "Epoch 00043: val_loss did not improve from 1.04466\n",
      "Epoch 44/100\n",
      "224/224 [==============================] - 24s 108ms/step - loss: 1.0368 - accuracy: 0.6113 - val_loss: 1.0514 - val_accuracy: 0.6077\n",
      "\n",
      "Epoch 00044: val_loss did not improve from 1.04466\n",
      "Epoch 45/100\n",
      "224/224 [==============================] - 24s 107ms/step - loss: 1.0281 - accuracy: 0.6144 - val_loss: 1.0164 - val_accuracy: 0.6250\n",
      "\n",
      "Epoch 00045: val_loss improved from 1.04466 to 1.01637, saving model to weights_min_loss.hdf5\n",
      "Epoch 46/100\n",
      "224/224 [==============================] - 24s 107ms/step - loss: 1.0124 - accuracy: 0.6185 - val_loss: 1.0690 - val_accuracy: 0.6077\n",
      "\n",
      "Epoch 00046: val_loss did not improve from 1.01637\n",
      "Epoch 47/100\n",
      "224/224 [==============================] - 24s 107ms/step - loss: 1.0053 - accuracy: 0.6224 - val_loss: 1.1024 - val_accuracy: 0.5993\n",
      "\n",
      "Epoch 00047: val_loss did not improve from 1.01637\n",
      "Epoch 48/100\n",
      "224/224 [==============================] - 24s 108ms/step - loss: 0.9971 - accuracy: 0.6285 - val_loss: 1.0337 - val_accuracy: 0.6166\n",
      "\n",
      "Epoch 00048: val_loss did not improve from 1.01637\n",
      "Epoch 49/100\n",
      "224/224 [==============================] - 24s 107ms/step - loss: 0.9919 - accuracy: 0.6292 - val_loss: 1.0287 - val_accuracy: 0.6199\n",
      "\n",
      "Epoch 00049: val_loss did not improve from 1.01637\n",
      "Epoch 50/100\n",
      "224/224 [==============================] - 24s 108ms/step - loss: 0.9813 - accuracy: 0.6328 - val_loss: 1.0509 - val_accuracy: 0.6043\n",
      "\n",
      "Epoch 00050: val_loss did not improve from 1.01637\n",
      "Epoch 51/100\n",
      "224/224 [==============================] - 24s 107ms/step - loss: 0.9714 - accuracy: 0.6379 - val_loss: 0.9869 - val_accuracy: 0.6372\n",
      "\n",
      "Epoch 00051: val_loss improved from 1.01637 to 0.98693, saving model to weights_min_loss.hdf5\n",
      "Epoch 52/100\n",
      "224/224 [==============================] - 24s 108ms/step - loss: 0.9661 - accuracy: 0.6350 - val_loss: 1.0489 - val_accuracy: 0.6121\n",
      "\n",
      "Epoch 00052: val_loss did not improve from 0.98693\n",
      "Epoch 53/100\n",
      "224/224 [==============================] - 24s 107ms/step - loss: 0.9609 - accuracy: 0.6412 - val_loss: 1.0220 - val_accuracy: 0.6186\n",
      "\n",
      "Epoch 00053: val_loss did not improve from 0.98693\n",
      "Epoch 54/100\n",
      "224/224 [==============================] - 24s 108ms/step - loss: 0.9539 - accuracy: 0.6433 - val_loss: 1.0925 - val_accuracy: 0.6010\n",
      "\n",
      "Epoch 00054: val_loss did not improve from 0.98693\n",
      "Epoch 55/100\n",
      "224/224 [==============================] - 24s 106ms/step - loss: 0.9573 - accuracy: 0.6438 - val_loss: 1.1184 - val_accuracy: 0.5862\n",
      "\n",
      "Epoch 00055: val_loss did not improve from 0.98693\n",
      "Epoch 56/100\n",
      "224/224 [==============================] - 24s 107ms/step - loss: 0.9375 - accuracy: 0.6479 - val_loss: 1.0622 - val_accuracy: 0.6032\n",
      "\n",
      "Epoch 00056: val_loss did not improve from 0.98693\n",
      "Epoch 57/100\n",
      "224/224 [==============================] - 24s 108ms/step - loss: 0.9273 - accuracy: 0.6527 - val_loss: 1.0125 - val_accuracy: 0.6194\n",
      "\n",
      "Epoch 00057: val_loss did not improve from 0.98693\n",
      "Epoch 58/100\n",
      "224/224 [==============================] - 24s 107ms/step - loss: 0.9219 - accuracy: 0.6544 - val_loss: 0.9990 - val_accuracy: 0.6258\n",
      "\n",
      "Epoch 00058: val_loss did not improve from 0.98693\n",
      "Epoch 59/100\n",
      "224/224 [==============================] - 24s 107ms/step - loss: 0.9130 - accuracy: 0.6549 - val_loss: 1.0348 - val_accuracy: 0.6110\n",
      "\n",
      "Epoch 00059: val_loss did not improve from 0.98693\n",
      "Epoch 60/100\n",
      "224/224 [==============================] - 24s 108ms/step - loss: 0.9086 - accuracy: 0.6592 - val_loss: 1.0084 - val_accuracy: 0.6211\n",
      "\n",
      "Epoch 00060: val_loss did not improve from 0.98693\n",
      "Epoch 61/100\n",
      "224/224 [==============================] - 24s 107ms/step - loss: 0.8980 - accuracy: 0.6639 - val_loss: 1.0400 - val_accuracy: 0.6060\n",
      "\n",
      "Epoch 00061: val_loss did not improve from 0.98693\n",
      "Epoch 62/100\n",
      "224/224 [==============================] - 24s 108ms/step - loss: 0.8882 - accuracy: 0.6695 - val_loss: 0.9791 - val_accuracy: 0.6344\n",
      "\n",
      "Epoch 00062: val_loss improved from 0.98693 to 0.97912, saving model to weights_min_loss.hdf5\n",
      "Epoch 63/100\n",
      "224/224 [==============================] - 24s 107ms/step - loss: 0.8844 - accuracy: 0.6724 - val_loss: 0.9636 - val_accuracy: 0.6428\n",
      "\n",
      "Epoch 00063: val_loss improved from 0.97912 to 0.96362, saving model to weights_min_loss.hdf5\n",
      "Epoch 64/100\n",
      "224/224 [==============================] - 24s 108ms/step - loss: 0.8775 - accuracy: 0.6732 - val_loss: 1.0355 - val_accuracy: 0.6158\n",
      "\n",
      "Epoch 00064: val_loss did not improve from 0.96362\n",
      "Epoch 65/100\n",
      "224/224 [==============================] - 24s 107ms/step - loss: 0.8681 - accuracy: 0.6758 - val_loss: 1.0738 - val_accuracy: 0.6088\n",
      "\n",
      "Epoch 00065: val_loss did not improve from 0.96362\n",
      "Epoch 66/100\n",
      "224/224 [==============================] - 24s 107ms/step - loss: 0.8650 - accuracy: 0.6781 - val_loss: 0.9886 - val_accuracy: 0.6280\n",
      "\n",
      "Epoch 00066: val_loss did not improve from 0.96362\n",
      "Epoch 67/100\n",
      "224/224 [==============================] - 24s 108ms/step - loss: 0.8547 - accuracy: 0.6821 - val_loss: 1.0672 - val_accuracy: 0.6174\n",
      "\n",
      "Epoch 00067: val_loss did not improve from 0.96362\n",
      "Epoch 68/100\n",
      "224/224 [==============================] - 24s 108ms/step - loss: 0.8472 - accuracy: 0.6822 - val_loss: 1.1334 - val_accuracy: 0.5935\n",
      "\n",
      "Epoch 00068: val_loss did not improve from 0.96362\n",
      "Epoch 69/100\n",
      "224/224 [==============================] - 24s 108ms/step - loss: 0.8559 - accuracy: 0.6803 - val_loss: 0.9884 - val_accuracy: 0.6417\n",
      "\n",
      "Epoch 00069: val_loss did not improve from 0.96362\n",
      "Epoch 70/100\n",
      "224/224 [==============================] - 24s 108ms/step - loss: 0.8361 - accuracy: 0.6869 - val_loss: 0.9995 - val_accuracy: 0.6414\n",
      "\n",
      "Epoch 00070: val_loss did not improve from 0.96362\n",
      "Epoch 71/100\n",
      "224/224 [==============================] - 24s 107ms/step - loss: 0.8252 - accuracy: 0.6915 - val_loss: 0.9582 - val_accuracy: 0.6503\n",
      "\n",
      "Epoch 00071: val_loss improved from 0.96362 to 0.95818, saving model to weights_min_loss.hdf5\n",
      "Epoch 72/100\n",
      "224/224 [==============================] - 24s 108ms/step - loss: 0.8159 - accuracy: 0.6968 - val_loss: 1.0130 - val_accuracy: 0.6428\n",
      "\n",
      "Epoch 00072: val_loss did not improve from 0.95818\n",
      "Epoch 73/100\n",
      "224/224 [==============================] - 24s 108ms/step - loss: 0.8140 - accuracy: 0.6949 - val_loss: 1.0376 - val_accuracy: 0.6291\n",
      "\n",
      "Epoch 00073: val_loss did not improve from 0.95818\n",
      "Epoch 74/100\n",
      "224/224 [==============================] - 24s 107ms/step - loss: 0.8068 - accuracy: 0.6990 - val_loss: 1.0027 - val_accuracy: 0.6417\n",
      "\n",
      "Epoch 00074: val_loss did not improve from 0.95818\n",
      "Epoch 75/100\n",
      "224/224 [==============================] - 24s 107ms/step - loss: 0.7965 - accuracy: 0.7010 - val_loss: 0.9855 - val_accuracy: 0.6395\n",
      "\n",
      "Epoch 00075: val_loss did not improve from 0.95818\n",
      "Epoch 76/100\n",
      "224/224 [==============================] - 24s 109ms/step - loss: 0.7855 - accuracy: 0.7070 - val_loss: 0.9781 - val_accuracy: 0.6498\n",
      "\n",
      "Epoch 00076: val_loss did not improve from 0.95818\n",
      "Epoch 77/100\n",
      "224/224 [==============================] - 25s 111ms/step - loss: 0.7815 - accuracy: 0.7078 - val_loss: 0.9900 - val_accuracy: 0.6492\n",
      "\n",
      "Epoch 00077: val_loss did not improve from 0.95818\n",
      "Epoch 78/100\n",
      "224/224 [==============================] - 24s 109ms/step - loss: 0.7691 - accuracy: 0.7112 - val_loss: 1.0183 - val_accuracy: 0.6319\n",
      "\n",
      "Epoch 00078: val_loss did not improve from 0.95818\n",
      "Epoch 79/100\n",
      "224/224 [==============================] - 24s 109ms/step - loss: 0.7642 - accuracy: 0.7132 - val_loss: 1.0284 - val_accuracy: 0.6294\n",
      "\n",
      "Epoch 00079: val_loss did not improve from 0.95818\n",
      "Epoch 80/100\n",
      "224/224 [==============================] - 25s 111ms/step - loss: 0.7602 - accuracy: 0.7158 - val_loss: 1.0021 - val_accuracy: 0.6556\n",
      "\n",
      "Epoch 00080: val_loss did not improve from 0.95818\n",
      "Epoch 81/100\n",
      "224/224 [==============================] - 25s 109ms/step - loss: 0.7467 - accuracy: 0.7202 - val_loss: 0.9993 - val_accuracy: 0.6439\n",
      "\n",
      "Epoch 00081: val_loss did not improve from 0.95818\n",
      "Epoch 82/100\n",
      "224/224 [==============================] - 24s 107ms/step - loss: 0.7434 - accuracy: 0.7226 - val_loss: 0.9620 - val_accuracy: 0.6531\n",
      "\n",
      "Epoch 00082: val_loss did not improve from 0.95818\n",
      "Epoch 83/100\n",
      "224/224 [==============================] - 24s 108ms/step - loss: 0.7371 - accuracy: 0.7255 - val_loss: 1.0406 - val_accuracy: 0.6434\n",
      "\n",
      "Epoch 00083: val_loss did not improve from 0.95818\n",
      "Epoch 84/100\n",
      "224/224 [==============================] - 24s 108ms/step - loss: 0.7279 - accuracy: 0.7274 - val_loss: 1.0496 - val_accuracy: 0.6417\n",
      "\n",
      "Epoch 00084: val_loss did not improve from 0.95818\n",
      "Epoch 85/100\n",
      "224/224 [==============================] - 24s 109ms/step - loss: 0.7168 - accuracy: 0.7323 - val_loss: 1.0105 - val_accuracy: 0.6431\n",
      "\n",
      "Epoch 00085: val_loss did not improve from 0.95818\n",
      "Epoch 86/100\n",
      "224/224 [==============================] - 24s 107ms/step - loss: 0.7143 - accuracy: 0.7302 - val_loss: 1.0183 - val_accuracy: 0.6492\n",
      "\n",
      "Epoch 00086: val_loss did not improve from 0.95818\n",
      "Epoch 87/100\n",
      "224/224 [==============================] - 24s 108ms/step - loss: 0.7003 - accuracy: 0.7396 - val_loss: 1.0548 - val_accuracy: 0.6567\n",
      "\n",
      "Epoch 00087: val_loss did not improve from 0.95818\n",
      "Epoch 88/100\n",
      "224/224 [==============================] - 24s 109ms/step - loss: 0.6930 - accuracy: 0.7389 - val_loss: 1.0707 - val_accuracy: 0.6347\n",
      "\n",
      "Epoch 00088: val_loss did not improve from 0.95818\n",
      "Epoch 89/100\n",
      "224/224 [==============================] - 25s 112ms/step - loss: 0.6840 - accuracy: 0.7428 - val_loss: 1.0021 - val_accuracy: 0.6528\n",
      "\n",
      "Epoch 00089: val_loss did not improve from 0.95818\n",
      "Epoch 90/100\n",
      "224/224 [==============================] - 25s 111ms/step - loss: 0.6756 - accuracy: 0.7435 - val_loss: 1.0097 - val_accuracy: 0.6640\n",
      "\n",
      "Epoch 00090: val_loss did not improve from 0.95818\n",
      "Epoch 91/100\n",
      "224/224 [==============================] - 25s 113ms/step - loss: 0.6719 - accuracy: 0.7476 - val_loss: 1.0119 - val_accuracy: 0.6567\n",
      "\n",
      "Epoch 00091: val_loss did not improve from 0.95818\n",
      "Epoch 92/100\n",
      "224/224 [==============================] - 25s 112ms/step - loss: 0.6671 - accuracy: 0.7532 - val_loss: 1.0544 - val_accuracy: 0.6517\n",
      "\n",
      "Epoch 00092: val_loss did not improve from 0.95818\n",
      "Epoch 93/100\n",
      "224/224 [==============================] - 26s 114ms/step - loss: 0.6571 - accuracy: 0.7554 - val_loss: 0.9995 - val_accuracy: 0.6584\n",
      "\n",
      "Epoch 00093: val_loss did not improve from 0.95818\n",
      "Epoch 94/100\n",
      "224/224 [==============================] - 25s 112ms/step - loss: 0.6481 - accuracy: 0.7524 - val_loss: 1.0481 - val_accuracy: 0.6679\n",
      "\n",
      "Epoch 00094: val_loss did not improve from 0.95818\n",
      "Epoch 95/100\n",
      "224/224 [==============================] - 25s 111ms/step - loss: 0.6386 - accuracy: 0.7609 - val_loss: 1.1169 - val_accuracy: 0.6473\n",
      "\n",
      "Epoch 00095: val_loss did not improve from 0.95818\n",
      "Epoch 96/100\n",
      "224/224 [==============================] - 26s 114ms/step - loss: 0.6398 - accuracy: 0.7586 - val_loss: 1.1182 - val_accuracy: 0.6325\n",
      "\n",
      "Epoch 00096: val_loss did not improve from 0.95818\n",
      "Epoch 97/100\n",
      "224/224 [==============================] - 25s 113ms/step - loss: 0.6296 - accuracy: 0.7643 - val_loss: 1.1286 - val_accuracy: 0.6514\n",
      "\n",
      "Epoch 00097: val_loss did not improve from 0.95818\n",
      "Epoch 98/100\n",
      "224/224 [==============================] - 25s 113ms/step - loss: 0.6175 - accuracy: 0.7687 - val_loss: 1.0988 - val_accuracy: 0.6576\n",
      "\n",
      "Epoch 00098: val_loss did not improve from 0.95818\n",
      "Epoch 99/100\n",
      "224/224 [==============================] - 25s 111ms/step - loss: 0.6064 - accuracy: 0.7724 - val_loss: 1.0631 - val_accuracy: 0.6629\n",
      "\n",
      "Epoch 00099: val_loss did not improve from 0.95818\n",
      "Epoch 100/100\n",
      "224/224 [==============================] - 25s 112ms/step - loss: 0.6119 - accuracy: 0.7753 - val_loss: 1.1215 - val_accuracy: 0.6590\n",
      "\n",
      "Epoch 00100: val_loss did not improve from 0.95818\n"
     ]
    }
   ],
   "source": [
    "num_epochs = 100  \n",
    "history = model.fit(train_flow, \n",
    "                    steps_per_epoch=len(X_train) / batch_size, \n",
    "                    epochs=num_epochs,  \n",
    "                    verbose=1,  \n",
    "                    callbacks=callbacks_list,\n",
    "                    validation_data=test_flow,  \n",
    "                    validation_steps=len(X_test) / batch_size)"
   ]
  },
  {
   "cell_type": "markdown",
   "metadata": {},
   "source": [
    "# Testing And Visualizing\n"
   ]
  },
  {
   "cell_type": "code",
   "execution_count": 59,
   "metadata": {
    "execution": {
     "iopub.execute_input": "2022-02-25T18:59:34.076981Z",
     "iopub.status.busy": "2022-02-25T18:59:34.076181Z",
     "iopub.status.idle": "2022-02-25T18:59:34.715758Z",
     "shell.execute_reply": "2022-02-25T18:59:34.714947Z",
     "shell.execute_reply.started": "2022-02-25T18:59:34.076941Z"
    }
   },
   "outputs": [
    {
     "data": {
      "text/plain": [
       "<Figure size 432x288 with 0 Axes>"
      ]
     },
     "execution_count": 59,
     "metadata": {},
     "output_type": "execute_result"
    },
    {
     "data": {
      "image/png": "[encoded data removed]",
      "text/plain": [
       "<Figure size 432x288 with 1 Axes>"
      ]
     },
     "metadata": {},
     "output_type": "display_data"
    },
    {
     "data": {
      "image/png": "[encoded data removed]",
      "text/plain": [
       "<Figure size 432x288 with 1 Axes>"
      ]
     },
     "metadata": {},
     "output_type": "display_data"
    },
    {
     "data": {
      "text/plain": [
       "<Figure size 432x288 with 0 Axes>"
      ]
     },
     "metadata": {},
     "output_type": "display_data"
    }
   ],
   "source": [
    "train_loss=history.history['loss']\n",
    "val_loss=history.history['val_loss']\n",
    "train_acc=history.history['accuracy']\n",
    "val_acc=history.history['val_accuracy']\n",
    "\n",
    "epochs = range(len(train_acc))\n",
    "\n",
    "plt.plot(epochs,train_loss,'r', label='train_loss')\n",
    "plt.plot(epochs,val_loss,'b', label='val_loss')\n",
    "plt.title('train_loss vs val_loss')\n",
    "plt.xlabel('epoch')\n",
    "plt.ylabel('loss')\n",
    "plt.legend()\n",
    "plt.figure()\n",
    "\n",
    "plt.plot(epochs,train_acc,'r', label='train_acc')\n",
    "plt.plot(epochs,val_acc,'b', label='val_acc')\n",
    "plt.title('train_acc vs val_acc')\n",
    "plt.xlabel('epoch')\n",
    "plt.ylabel('accuracy')\n",
    "plt.legend()\n",
    "plt.figure()"
   ]
  },
  {
   "cell_type": "code",
   "execution_count": 60,
   "metadata": {
    "execution": {
     "iopub.execute_input": "2022-02-25T19:00:02.792960Z",
     "iopub.status.busy": "2022-02-25T19:00:02.791693Z",
     "iopub.status.idle": "2022-02-25T19:00:04.374965Z",
     "shell.execute_reply": "2022-02-25T19:00:04.373928Z",
     "shell.execute_reply.started": "2022-02-25T19:00:02.792896Z"
    }
   },
   "outputs": [],
   "source": [
    "model.save('../working/Fer2013.h5')"
   ]
  },
  {
   "cell_type": "code",
   "execution_count": 61,
   "metadata": {
    "execution": {
     "iopub.execute_input": "2022-02-25T19:00:05.377903Z",
     "iopub.status.busy": "2022-02-25T19:00:05.377615Z",
     "iopub.status.idle": "2022-02-25T19:00:08.164723Z",
     "shell.execute_reply": "2022-02-25T19:00:08.163869Z",
     "shell.execute_reply.started": "2022-02-25T19:00:05.377864Z"
    }
   },
   "outputs": [
    {
     "name": "stdout",
     "output_type": "stream",
     "text": [
      "113/113 [==============================] - 3s 19ms/step - loss: 1.1215 - accuracy: 0.6590\n",
      "Test Loss 1.1214581727981567\n",
      "Test Acc: 0.6589578986167908\n"
     ]
    }
   ],
   "source": [
    "loss = model.evaluate(X_test/255., y_test) \n",
    "print(\"Test Loss \" + str(loss[0]))\n",
    "print(\"Test Acc: \" + str(loss[1]))"
   ]
  },
  {
   "cell_type": "code",
   "execution_count": 62,
   "metadata": {
    "execution": {
     "iopub.execute_input": "2022-02-25T19:00:11.517205Z",
     "iopub.status.busy": "2022-02-25T19:00:11.516900Z",
     "iopub.status.idle": "2022-02-25T19:00:14.048962Z",
     "shell.execute_reply": "2022-02-25T19:00:14.048158Z",
     "shell.execute_reply.started": "2022-02-25T19:00:11.517172Z"
    }
   },
   "outputs": [
    {
     "name": "stdout",
     "output_type": "stream",
     "text": [
      "113/113 [==============================] - 2s 14ms/step\n"
     ]
    },
    {
     "name": "stderr",
     "output_type": "stream",
     "text": [
      "/opt/conda/lib/python3.7/site-packages/ipykernel_launcher.py:15: MatplotlibDeprecationWarning: Auto-removal of grids by pcolor() and pcolormesh() is deprecated since 3.5 and will be removed two minor releases later; please call grid(False) first.\n",
      "  from ipykernel import kernelapp as app\n"
     ]
    },
    {
     "data": {
      "image/png": "[encoded data removed]",
      "text/plain": [
       "<Figure size 432x288 with 2 Axes>"
      ]
     },
     "metadata": {},
     "output_type": "display_data"
    }
   ],
   "source": [
    "import itertools\n",
    "def plot_confusion_matrix(y_test, y_pred, classes,\n",
    "                          normalize=False,\n",
    "                          title='Unnormalized confusion matrix',\n",
    "                          cmap=plt.cm.Blues):\n",
    "    cm = confusion_matrix(y_test, y_pred)\n",
    "    \n",
    "    if normalize:\n",
    "        cm = np.round(cm.astype('float') / cm.sum(axis=1)[:, np.newaxis], 2)\n",
    "        \n",
    "    np.set_printoptions(precision=2)\n",
    "        \n",
    "    plt.imshow(cm, interpolation='nearest', cmap=cmap)\n",
    "    plt.title(title)\n",
    "    plt.colorbar()\n",
    "    tick_marks = np.arange(len(classes))\n",
    "    plt.xticks(tick_marks, classes, rotation=45)\n",
    "    plt.yticks(tick_marks, classes)\n",
    "\n",
    "    thresh = cm.min() + (cm.max() - cm.min()) / 2.\n",
    "    for i, j in itertools.product(range(cm.shape[0]), range(cm.shape[1])):\n",
    "        plt.text(j, i, cm[i, j],\n",
    "                 horizontalalignment=\"center\",\n",
    "                 color=\"white\" if cm[i, j] > thresh else \"black\")\n",
    "\n",
    "    plt.tight_layout()\n",
    "    plt.ylabel('True expression')\n",
    "    plt.xlabel('Predicted expression')\n",
    "    plt.show()\n",
    "y_pred_ = model.predict(X_test/255., verbose=1)\n",
    "y_pred = np.argmax(y_pred_, axis=1)\n",
    "t_te = np.argmax(y_test, axis=1)\n",
    "fig = plot_confusion_matrix(y_test=t_te, y_pred=y_pred,\n",
    "                      classes=classes,\n",
    "                      normalize=True,\n",
    "                      cmap=plt.cm.Greys,   title='Average accuracy: ' + str(np.sum(y_pred == t_te)/len(t_te)) + '\\n')"
   ]
  },
  {
   "cell_type": "code",
   "execution_count": 63,
   "metadata": {
    "execution": {
     "iopub.execute_input": "2022-02-25T19:00:22.374988Z",
     "iopub.status.busy": "2022-02-25T19:00:22.374172Z",
     "iopub.status.idle": "2022-02-25T19:00:22.913794Z",
     "shell.execute_reply": "2022-02-25T19:00:22.912776Z",
     "shell.execute_reply.started": "2022-02-25T19:00:22.374947Z"
    }
   },
   "outputs": [
    {
     "name": "stdout",
     "output_type": "stream",
     "text": [
      "Saved model to disk\n"
     ]
    }
   ],
   "source": [
    "model_json = model.to_json()\n",
    "with open(\"model.json\", \"w\") as json_file:\n",
    "    json_file.write(model_json)\n",
    "model.save_weights(\"/kaggle/working/model.h5\")\n",
    "print(\"Saved model to disk\")"
   ]
  },
  {
   "cell_type": "code",
   "execution_count": null,
   "metadata": {},
   "outputs": [],
   "source": []
  }
 ],
 "metadata": {
  "kernelspec": {
   "display_name": "Python 3 (ipykernel)",
   "language": "python",
   "name": "python3"
  },
  "language_info": {
   "codemirror_mode": {
    "name": "ipython",
    "version": 3
   },
   "file_extension": ".py",
   "mimetype": "text/x-python",
   "name": "python",
   "nbconvert_exporter": "python",
   "pygments_lexer": "ipython3",
   "version": "3.10.0"
  }
 },
 "nbformat": 4,
 "nbformat_minor": 4
}
